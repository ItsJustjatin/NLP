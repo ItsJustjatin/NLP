{
  "nbformat": 4,
  "nbformat_minor": 0,
  "metadata": {
    "colab": {
      "provenance": []
    },
    "kernelspec": {
      "name": "python3",
      "display_name": "Python 3"
    },
    "language_info": {
      "name": "python"
    }
  },
  "cells": [
    {
      "cell_type": "code",
      "execution_count": null,
      "metadata": {
        "colab": {
          "base_uri": "https://localhost:8080/"
        },
        "id": "rGFGl5K9thKT",
        "outputId": "ed7f0b95-d608-4074-8f80-de773f5cafaf"
      },
      "outputs": [
        {
          "output_type": "stream",
          "name": "stdout",
          "text": [
            "Reading package lists... Done\n",
            "Building dependency tree... Done\n",
            "Reading state information... Done\n",
            "libasound2-dev is already the newest version (1.2.6.1-1ubuntu1).\n",
            "libportaudio2 is already the newest version (19.6.0-1.1).\n",
            "libportaudiocpp0 is already the newest version (19.6.0-1.1).\n",
            "portaudio19-dev is already the newest version (19.6.0-1.1).\n",
            "ffmpeg is already the newest version (7:4.4.2-0ubuntu0.22.04.1).\n",
            "0 upgraded, 0 newly installed, 0 to remove and 49 not upgraded.\n",
            "Requirement already satisfied: SpeechRecognition in /usr/local/lib/python3.10/dist-packages (3.10.4)\n",
            "Requirement already satisfied: pydub in /usr/local/lib/python3.10/dist-packages (0.25.1)\n",
            "Requirement already satisfied: requests>=2.26.0 in /usr/local/lib/python3.10/dist-packages (from SpeechRecognition) (2.32.3)\n",
            "Requirement already satisfied: typing-extensions in /usr/local/lib/python3.10/dist-packages (from SpeechRecognition) (4.12.2)\n",
            "Requirement already satisfied: charset-normalizer<4,>=2 in /usr/local/lib/python3.10/dist-packages (from requests>=2.26.0->SpeechRecognition) (3.3.2)\n",
            "Requirement already satisfied: idna<4,>=2.5 in /usr/local/lib/python3.10/dist-packages (from requests>=2.26.0->SpeechRecognition) (3.8)\n",
            "Requirement already satisfied: urllib3<3,>=1.21.1 in /usr/local/lib/python3.10/dist-packages (from requests>=2.26.0->SpeechRecognition) (2.0.7)\n",
            "Requirement already satisfied: certifi>=2017.4.17 in /usr/local/lib/python3.10/dist-packages (from requests>=2.26.0->SpeechRecognition) (2024.8.30)\n",
            "Requirement already satisfied: pyaudio in /usr/local/lib/python3.10/dist-packages (0.2.14)\n",
            "Requirement already satisfied: soundfile in /usr/local/lib/python3.10/dist-packages (0.12.1)\n",
            "Requirement already satisfied: cffi>=1.0 in /usr/local/lib/python3.10/dist-packages (from soundfile) (1.17.1)\n",
            "Requirement already satisfied: pycparser in /usr/local/lib/python3.10/dist-packages (from cffi>=1.0->soundfile) (2.22)\n"
          ]
        }
      ],
      "source": [
        "!apt install libasound2-dev portaudio19-dev libportaudio2 libportaudiocpp0 ffmpeg\n",
        "!pip install SpeechRecognition pydub\n",
        "!pip install pyaudio\n",
        "!pip install soundfile"
      ]
    },
    {
      "cell_type": "code",
      "source": [
        "import speech_recognition as sr\n",
        "from pydub import AudioSegment"
      ],
      "metadata": {
        "id": "KweG_p6iw4Zg"
      },
      "execution_count": null,
      "outputs": []
    },
    {
      "cell_type": "code",
      "source": [
        "# Initialize the recognizer\n",
        "recognizer = sr.Recognizer()"
      ],
      "metadata": {
        "id": "3GD0yb-jMYWP"
      },
      "execution_count": null,
      "outputs": []
    },
    {
      "cell_type": "code",
      "source": [
        "def capture_audio_from_file(file_path):\n",
        "    # Check if the file format is not in WAV format and convert it to WAV\n",
        "    if not file_path.endswith(\".wav\"):\n",
        "        audio = AudioSegment.from_file(file_path)\n",
        "        # Convert the file to WAV format and save it temporarily\n",
        "        file_path = \"temp.wav\"\n",
        "        audio.export(file_path, format=\"wav\")\n",
        "\n",
        "    # Use speech_recognition to process the WAV file\n",
        "    with sr.AudioFile(file_path) as source:\n",
        "        print(\"Hi, I got your audio.\")  # Confirm audio is captured\n",
        "        audio = recognizer.record(source)\n",
        "    return audio"
      ],
      "metadata": {
        "id": "Wh9W4urlxaLq"
      },
      "execution_count": null,
      "outputs": []
    },
    {
      "cell_type": "code",
      "source": [
        "def convert_voice_to_text(audio):\n",
        "    try:\n",
        "        text = recognizer.recognize_google(audio)\n",
        "        print(\"You said: \" + text)\n",
        "    except sr.UnknownValueError:\n",
        "        text = \"\"\n",
        "        print(\"Sorry, I didn't understand that.\")\n",
        "    except sr.RequestError as e:\n",
        "        text = \"\"\n",
        "        print(\"Error; {0}\".format(e))\n",
        "    return text"
      ],
      "metadata": {
        "id": "hzPWYwdTxiKh"
      },
      "execution_count": null,
      "outputs": []
    },
    {
      "cell_type": "code",
      "source": [
        "\n",
        "def process_voice_command(text):\n",
        "    if text:\n",
        "        print(\"Have a nice day! Any other audio for me. \")\n",
        "    else:\n",
        "        print(\"Have a nice day! But I couldn't understand what you said.\")"
      ],
      "metadata": {
        "id": "bRf4axRhJA1K"
      },
      "execution_count": null,
      "outputs": []
    },
    {
      "cell_type": "code",
      "source": [
        "def main(file_path):\n",
        "    # Capture and process audio\n",
        "    audio = capture_audio_from_file(file_path)\n",
        "    text = convert_voice_to_text(audio)\n",
        "    process_voice_command(text)\n",
        "\n",
        "# Example: Replace this with the path to your WAV file\n",
        "if __name__ == \"__main__\":\n",
        "    file_path = \"/content/harvard.wav\"  # Path to the .wav file\n",
        "    main(file_path)\n"
      ],
      "metadata": {
        "colab": {
          "base_uri": "https://localhost:8080/"
        },
        "id": "nwlR3yqpx24L",
        "outputId": "9044374d-c23b-4234-efaf-a5b5258db14d"
      },
      "execution_count": null,
      "outputs": [
        {
          "output_type": "stream",
          "name": "stdout",
          "text": [
            "Hi, I got your audio.\n",
            "You said: the stale smell of old beer lingers it takes heat to bring out the odor a cold dip restores health and zest a salt pickle taste fine with ham tacos al pastor are my favorite a zestful food is the hot cross bun\n",
            "Have a nice day! Any other audio for me. \n"
          ]
        }
      ]
    }
  ]
}